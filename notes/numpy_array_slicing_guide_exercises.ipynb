{
 "cells": [
  {
   "cell_type": "markdown",
   "id": "bf458178",
   "metadata": {},
   "source": [
    "# NumPy Array Slicing — Guide & Exercises\n",
    "\n",
    "*Generated on 2025-09-11*\n",
    "\n",
    "This notebook covers NumPy slicing essentials with runnable examples, followed by exercises where you **predict the result/shape** and then **reveal** the answers."
   ]
  },
  {
   "cell_type": "code",
   "execution_count": 2,
   "id": "ab42064b",
   "metadata": {},
   "outputs": [],
   "source": [
    "import numpy as np\n",
    "np.set_printoptions(edgeitems=20, linewidth=120, suppress=True)\n"
   ]
  },
  {
   "cell_type": "markdown",
   "id": "69a9e17a",
   "metadata": {},
   "source": [
    "## 1) The Basics: `start:stop:step`\n",
    "- Half-open intervals: `start` inclusive, `stop` exclusive\n",
    "- Any part may be omitted: defaults are `start=0`, `stop=len`, `step=1`\n",
    "- Negative indices count from the end; negative `step` reverses\n",
    "- Slices return **views** (no copy) when possible"
   ]
  },
  {
   "cell_type": "code",
   "execution_count": 5,
   "id": "9ca4a371",
   "metadata": {},
   "outputs": [
    {
     "name": "stdout",
     "output_type": "stream",
     "text": [
      "a: [0 1 2 3 4 5 6 7 8 9]\n",
      "a[2:7]     -> [2 3 4 5 6]\n",
      "a[:5]      -> [0 1 2 3 4]\n",
      "a[5:]      -> [5 6 7 8 9]\n",
      "a[::2]     -> [0 2 4 6 8]\n",
      "a[::-1]    -> [9 8 7 6 5 4 3 2 1 0]\n",
      "a[-4:-1]   -> [6 7 8]\n"
     ]
    }
   ],
   "source": [
    "a = np.arange(10)        # [0 1 2 3 4 5 6 7 8 9]\n",
    "print(\"a:\", a)\n",
    "print(\"a[2:7]     ->\", a[2:7])\n",
    "print(\"a[:5]      ->\", a[:5])\n",
    "print(\"a[5:]      ->\", a[5:])\n",
    "print(\"a[::2]     ->\", a[::2])\n",
    "print(\"a[::-1]    ->\", a[::-1])\n",
    "print(\"a[-4:-1]   ->\", a[-4:-1])"
   ]
  },
  {
   "cell_type": "markdown",
   "id": "24f20733",
   "metadata": {},
   "source": [
    "## 2) 2D Slicing: `rows, cols`\n",
    "Use a comma to slice each axis independently."
   ]
  },
  {
   "cell_type": "code",
   "execution_count": 6,
   "id": "b408736a",
   "metadata": {},
   "outputs": [
    {
     "name": "stdout",
     "output_type": "stream",
     "text": [
      "M:\n",
      " [[ 1  2  3  4]\n",
      " [ 5  6  7  8]\n",
      " [ 9 10 11 12]]\n",
      "M[0, :]      -> [1 2 3 4]\n",
      "M[:, 0]      -> [1 5 9]\n",
      "M[:2, :3]    ->\n",
      " [[1 2 3]\n",
      " [5 6 7]]\n",
      "M[::2, ::2]  ->\n",
      " [[ 1  3]\n",
      " [ 9 11]]\n"
     ]
    }
   ],
   "source": [
    "M = np.arange(1, 13).reshape(3, 4)\n",
    "print(\"M:\\n\", M)\n",
    "print(\"M[0, :]      ->\", M[0, :])        # first row\n",
    "print(\"M[:, 0]      ->\", M[:, 0])        # first column\n",
    "print(\"M[:2, :3]    ->\\n\", M[:2, :3])    # top-left 2x3 block\n",
    "print(\"M[::2, ::2]  ->\\n\", M[::2, ::2])  # every other row/col"
   ]
  },
  {
   "cell_type": "markdown",
   "id": "98363ad0",
   "metadata": {},
   "source": [
    "## 3) 3D Slicing and Ellipsis `...`\n",
    "Ellipsis fills in remaining axes automatically."
   ]
  },
  {
   "cell_type": "code",
   "execution_count": 35,
   "id": "213d7ff7",
   "metadata": {},
   "outputs": [
    {
     "name": "stdout",
     "output_type": "stream",
     "text": [
      "X shape: (2, 3, 4)\n",
      "X[0, :, :].shape -> (3, 4)\n",
      "X[:, 1, :].shape -> (2, 4)\n",
      "X[..., 0].shape  -> (2, 3)\n",
      "X[1, ..., ::2].shape -> (3, 2)\n"
     ]
    }
   ],
   "source": [
    "X = np.arange(2*3*4).reshape(2, 3, 4)  # shape (2,3,4)\n",
    "print(\"X shape:\", X.shape)\n",
    "print(\"X[0, :, :].shape ->\", X[0, :, :].shape)\n",
    "print(\"X[:, 1, :].shape ->\", X[:, 1, :].shape)\n",
    "print(\"X[..., 0].shape  ->\", X[..., 0].shape)\n",
    "print(\"X[1, ..., ::2].shape ->\", X[1, ..., ::2].shape)"
   ]
  },
  {
   "cell_type": "markdown",
   "id": "4ba972a4",
   "metadata": {},
   "source": [
    "## 4) Assigning to Slices (in-place edits)\n",
    "Slicing returns views, so writes modify the original."
   ]
  },
  {
   "cell_type": "code",
   "execution_count": 4,
   "id": "482d72ad",
   "metadata": {},
   "outputs": [
    {
     "name": "stdout",
     "output_type": "stream",
     "text": [
      "A after fill:\n",
      " [[0 0 0 0 0]\n",
      " [0 0 7 7 7]\n",
      " [0 0 7 7 7]\n",
      " [0 0 0 0 0]]\n",
      "A after setting col0:\n",
      " [[0 0 0 0 0]\n",
      " [1 0 7 7 7]\n",
      " [2 0 7 7 7]\n",
      " [3 0 0 0 0]]\n"
     ]
    }
   ],
   "source": [
    "A = np.zeros((4, 5), dtype=int)\n",
    "A[1:3, 2:5] = 7         # fill a submatrix\n",
    "print(\"A after fill:\\n\", A)\n",
    "A[:, 0] = np.arange(4)  # set first column\n",
    "print(\"A after setting col0:\\n\", A)"
   ]
  },
  {
   "cell_type": "markdown",
   "id": "875ea695",
   "metadata": {},
   "source": [
    "## 5) Views vs Copies\n",
    "- **Slicing** → view (shared memory)\n",
    "- **Fancy/boolean indexing** → copy"
   ]
  },
  {
   "cell_type": "code",
   "execution_count": 18,
   "id": "ad9abc59",
   "metadata": {},
   "outputs": [
    {
     "name": "stdout",
     "output_type": "stream",
     "text": [
      "B changed via slice view: [ 0  1 -1  3 -1  5 -1  7  8  9]\n",
      "C unchanged after fancy copy: [0 1 2 3 4 5 6 7 8 9]\n"
     ]
    }
   ],
   "source": [
    "B = np.arange(10)\n",
    "s = B[2:8:2]        # slice -> view\n",
    "s[:] = -1\n",
    "print(\"B changed via slice view:\", B)\n",
    "\n",
    "C = np.arange(10)\n",
    "f = C[[2,4,6]]      # fancy -> copy\n",
    "f[:] = -1\n",
    "print(\"C unchanged after fancy copy:\", C)"
   ]
  },
  {
   "cell_type": "markdown",
   "id": "073ed5f5",
   "metadata": {},
   "source": [
    "## 6) Using `None` / `np.newaxis` to Add Axes\n",
    "Insert a size-1 dimension to prepare for broadcasting."
   ]
  },
  {
   "cell_type": "code",
   "execution_count": 20,
   "id": "8d2fbfbb",
   "metadata": {},
   "outputs": [
    {
     "name": "stdout",
     "output_type": "stream",
     "text": [
      "v_col : \n",
      " [[0]\n",
      " [1]\n",
      " [2]\n",
      " [3]]\n",
      "v_row : \n",
      " [[0 1 2 3]]\n",
      "v_col shape: (4, 1) v_row shape: (1, 4)\n",
      "outer sum grid:\n",
      " [[0 1 2 3]\n",
      " [1 2 3 4]\n",
      " [2 3 4 5]\n",
      " [3 4 5 6]]\n"
     ]
    }
   ],
   "source": [
    "v = np.arange(4)                 # (4,)\n",
    "v_col = v[:, None]               # (4,1)\n",
    "v_row = v[None, :]               # (1,4)\n",
    "print(\"v_col : \\n\", v_col)\n",
    "print(\"v_row : \\n\", v_row)\n",
    "print(\"v_col shape:\", v_col.shape, \"v_row shape:\", v_row.shape)\n",
    "print(\"outer sum grid:\\n\", v_col + v_row)"
   ]
  },
  {
   "cell_type": "markdown",
   "id": "79eb9db8",
   "metadata": {},
   "source": [
    "## 7) Mixed Slicing & Boolean Masks (advanced)"
   ]
  },
  {
   "cell_type": "code",
   "execution_count": 21,
   "id": "14a5ede0",
   "metadata": {},
   "outputs": [
    {
     "name": "stdout",
     "output_type": "stream",
     "text": [
      "Z:\n",
      " [[ 1  2  3  4]\n",
      " [ 5  6  7  8]\n",
      " [ 9 10 11 12]]\n",
      "mask (row1 > 6): [False False  True  True]\n",
      "Z[1, mask] -> [7 8]\n",
      "Z[:, mask] ->\n",
      " [[ 3  4]\n",
      " [ 7  8]\n",
      " [11 12]]\n"
     ]
    }
   ],
   "source": [
    "Z = np.arange(1, 13).reshape(3, 4)\n",
    "mask = Z[1] > 6          # apply predicate to row 1 over columns\n",
    "print(\"Z:\\n\", Z)\n",
    "print(\"mask (row1 > 6):\", mask)\n",
    "print(\"Z[1, mask] ->\", Z[1, mask])\n",
    "print(\"Z[:, mask] ->\\n\", Z[:, mask])"
   ]
  },
  {
   "cell_type": "markdown",
   "id": "56c7d8ba",
   "metadata": {},
   "source": [
    "---\n",
    "# Exercises: Predict, Then Reveal\n",
    "For each exercise:\n",
    "1. **Predict** the result and/or shape in your head (or write it down).\n",
    "2. Run the **Reveal** cell to check your answer.\n",
    "\n",
    "> Tip: many of these rely on half-open intervals and view semantics.\n"
   ]
  },
  {
   "cell_type": "markdown",
   "id": "bcf0b9cd",
   "metadata": {},
   "source": [
    "### Exercise 1 — 1D Slices\n",
    "Predict the outputs for:\n",
    "- `a[1:6:2]`\n",
    "- `a[-5:-1]`\n",
    "- `a[::-2]`"
   ]
  },
  {
   "cell_type": "code",
   "execution_count": 22,
   "id": "4862de02",
   "metadata": {},
   "outputs": [
    {
     "data": {
      "text/plain": [
       "array([0, 1, 2, 3, 4, 5, 6, 7, 8, 9])"
      ]
     },
     "execution_count": 22,
     "metadata": {},
     "output_type": "execute_result"
    }
   ],
   "source": [
    "# Setup\n",
    "a = np.arange(10)\n",
    "a"
   ]
  },
  {
   "cell_type": "code",
   "execution_count": 23,
   "id": "535803bf",
   "metadata": {},
   "outputs": [
    {
     "name": "stdout",
     "output_type": "stream",
     "text": [
      "a[1:6:2] -> [1 3 5]\n",
      "a[-5:-1] -> [5 6 7 8]\n",
      "a[::-2]   -> [9 7 5 3 1]\n"
     ]
    }
   ],
   "source": [
    "# Reveal\n",
    "print(\"a[1:6:2] ->\", a[1:6:2]) # 1 3 5\n",
    "print(\"a[-5:-1] ->\", a[-5:-1]) # 5 6 7 8\n",
    "print(\"a[::-2]   ->\", a[::-2]) # 9 7 5 3 1"
   ]
  },
  {
   "cell_type": "markdown",
   "id": "7d6cb866",
   "metadata": {},
   "source": [
    "### Exercise 2 — 2D Crops & Strides\n",
    "Given `M = np.arange(1, 17).reshape(4,4)`, predict:\n",
    "- `M[1:3, 1:4]`\n",
    "- `M[::2, ::-2]`\n",
    "- `M[-2:, :2]`"
   ]
  },
  {
   "cell_type": "code",
   "execution_count": 24,
   "id": "6592a500",
   "metadata": {},
   "outputs": [
    {
     "data": {
      "text/plain": [
       "array([[ 1,  2,  3,  4],\n",
       "       [ 5,  6,  7,  8],\n",
       "       [ 9, 10, 11, 12],\n",
       "       [13, 14, 15, 16]])"
      ]
     },
     "execution_count": 24,
     "metadata": {},
     "output_type": "execute_result"
    }
   ],
   "source": [
    "M = np.arange(1, 17).reshape(4,4)\n",
    "M"
   ]
  },
  {
   "cell_type": "code",
   "execution_count": 25,
   "id": "c821612c",
   "metadata": {},
   "outputs": [
    {
     "name": "stdout",
     "output_type": "stream",
     "text": [
      "M[1:3, 1:4]:\n",
      " [[ 6  7  8]\n",
      " [10 11 12]]\n",
      "M[::2, ::-2]:\n",
      " [[ 4  2]\n",
      " [12 10]]\n",
      "M[-2:, :2]:\n",
      " [[ 9 10]\n",
      " [13 14]]\n"
     ]
    }
   ],
   "source": [
    "# Reveal\n",
    "print(\"M[1:3, 1:4]:\\n\", M[1:3, 1:4]) # [[6 7 8] [10 11 12]]\n",
    "print(\"M[::2, ::-2]:\\n\", M[::2, ::-2]) # [[4 2] [12 10]]\n",
    "print(\"M[-2:, :2]:\\n\", M[-2:, :2]) # [[9 10] [13 14]]"
   ]
  },
  {
   "cell_type": "markdown",
   "id": "80900fc7",
   "metadata": {},
   "source": [
    "### Exercise 3 — 3D Ellipsis\n",
    "Let `X = np.arange(2*3*4).reshape(2,3,4)`. Predict the **shapes** of:\n",
    "- `X[..., 0]`\n",
    "- `X[1, ..., ::2]`\n",
    "- `X[:, 1, :]`"
   ]
  },
  {
   "cell_type": "code",
   "execution_count": 26,
   "id": "74d46678",
   "metadata": {},
   "outputs": [
    {
     "data": {
      "text/plain": [
       "(2, 3, 4)"
      ]
     },
     "execution_count": 26,
     "metadata": {},
     "output_type": "execute_result"
    }
   ],
   "source": [
    "X = np.arange(2*3*4).reshape(2,3,4)\n",
    "X.shape"
   ]
  },
  {
   "cell_type": "code",
   "execution_count": 36,
   "id": "80588be8",
   "metadata": {},
   "outputs": [
    {
     "name": "stdout",
     "output_type": "stream",
     "text": [
      "X[..., 0].shape   -> (2, 3)\n",
      "X[1, ..., ::2].shape -> (3, 2)\n",
      "X[:, 1, :].shape  -> (2, 4)\n"
     ]
    }
   ],
   "source": [
    "# Reveal shapes only\n",
    "print(\"X[..., 0].shape   ->\", X[..., 0].shape) # (2, 3)\n",
    "print(\"X[1, ..., ::2].shape ->\", X[1, ..., ::2].shape) # (3, 2)\n",
    "print(\"X[:, 1, :].shape  ->\", X[:, 1, :].shape) # (2, 4)"
   ]
  },
  {
   "cell_type": "markdown",
   "id": "7dec80b8",
   "metadata": {},
   "source": [
    "### Exercise 4 — Views vs Copies\n",
    "Predict what happens to `B` in each case."
   ]
  },
  {
   "cell_type": "code",
   "execution_count": 37,
   "id": "9443e5a7",
   "metadata": {},
   "outputs": [
    {
     "data": {
      "text/plain": [
       "array([ 0,  1,  2, -1, -1, -1, -1, -1, -1,  9, 10, 11])"
      ]
     },
     "execution_count": 37,
     "metadata": {},
     "output_type": "execute_result"
    }
   ],
   "source": [
    "B = np.arange(12)\n",
    "view = B[3:9]\n",
    "view[:] = -1\n",
    "copy = B[[1,3,5]]\n",
    "copy[:] = 99\n",
    "B"
   ]
  },
  {
   "cell_type": "code",
   "execution_count": 38,
   "id": "8d75236e",
   "metadata": {},
   "outputs": [
    {
     "name": "stdout",
     "output_type": "stream",
     "text": [
      "B after modifying view and copy -> [ 0  1  2 -1 -1 -1 -1 -1 -1  9 10 11]\n",
      "(Expect slice-view edits visible; fancy-index copy edits not)\n"
     ]
    }
   ],
   "source": [
    "# Reveal\n",
    "print(\"B after modifying view and copy ->\", B) # [0 1 2 -1 -1 -1 -1 -1 -1 9 10 11]\n",
    "print(\"(Expect slice-view edits visible; fancy-index copy edits not)\") # "
   ]
  },
  {
   "cell_type": "markdown",
   "id": "ee699826",
   "metadata": {},
   "source": [
    "### Exercise 5 — Assigning to Slices\n",
    "Fill a `5x6` zero matrix in the rectangle rows `1..3` and cols `2..5` with `7`. Predict the final array."
   ]
  },
  {
   "cell_type": "code",
   "execution_count": 39,
   "id": "f67269f5",
   "metadata": {},
   "outputs": [
    {
     "data": {
      "text/plain": [
       "array([[0, 0, 0, 0, 0, 0],\n",
       "       [0, 0, 7, 7, 7, 7],\n",
       "       [0, 0, 7, 7, 7, 7],\n",
       "       [0, 0, 7, 7, 7, 7],\n",
       "       [0, 0, 0, 0, 0, 0]])"
      ]
     },
     "execution_count": 39,
     "metadata": {},
     "output_type": "execute_result"
    }
   ],
   "source": [
    "A = np.zeros((5,6), dtype=int)\n",
    "A[1:4, 2:6] = 7\n",
    "A"
   ]
  },
  {
   "cell_type": "markdown",
   "id": "46eb9ee8",
   "metadata": {},
   "source": [
    "### Exercise 6 — Row/Column Selection\n",
    "Given `M = np.arange(1, 13).reshape(3,4)`, predict:\n",
    "- `M[:, 0]`\n",
    "- `M[0, :]`\n",
    "- `M[:, ::2]`"
   ]
  },
  {
   "cell_type": "code",
   "execution_count": 40,
   "id": "0958e6dc",
   "metadata": {},
   "outputs": [
    {
     "data": {
      "text/plain": [
       "array([[ 1,  2,  3,  4],\n",
       "       [ 5,  6,  7,  8],\n",
       "       [ 9, 10, 11, 12]])"
      ]
     },
     "execution_count": 40,
     "metadata": {},
     "output_type": "execute_result"
    }
   ],
   "source": [
    "M = np.arange(1, 13).reshape(3,4)\n",
    "M"
   ]
  },
  {
   "cell_type": "code",
   "execution_count": 41,
   "id": "16d37c35",
   "metadata": {},
   "outputs": [
    {
     "name": "stdout",
     "output_type": "stream",
     "text": [
      "M[:, 0]  -> [1 5 9]\n",
      "M[0, :]  -> [1 2 3 4]\n",
      "M[:, ::2]->\n",
      " [[ 1  3]\n",
      " [ 5  7]\n",
      " [ 9 11]]\n"
     ]
    }
   ],
   "source": [
    "# Reveal\n",
    "print(\"M[:, 0]  ->\", M[:, 0]) # [1 5 9]\n",
    "print(\"M[0, :]  ->\", M[0, :]) # [1 2 3 4]\n",
    "print(\"M[:, ::2]->\\n\", M[:, ::2]) # [[1 3] [5 7] [9 11]]"
   ]
  },
  {
   "cell_type": "markdown",
   "id": "d94717b2",
   "metadata": {},
   "source": [
    "### Exercise 7 — Reversals\n",
    "For `a = np.arange(8)`, predict:\n",
    "- `a[::-1]`\n",
    "- `a[1::-1]`\n",
    "- `a[:-3:-1]`"
   ]
  },
  {
   "cell_type": "code",
   "execution_count": 3,
   "id": "8083dca3",
   "metadata": {},
   "outputs": [
    {
     "data": {
      "text/plain": [
       "array([0, 1, 2, 3, 4, 5, 6, 7])"
      ]
     },
     "execution_count": 3,
     "metadata": {},
     "output_type": "execute_result"
    }
   ],
   "source": [
    "a = np.arange(8)\n",
    "a"
   ]
  },
  {
   "cell_type": "code",
   "execution_count": 8,
   "id": "5c1c08a2",
   "metadata": {},
   "outputs": [
    {
     "name": "stdout",
     "output_type": "stream",
     "text": [
      "a[::-1]   -> [7 6 5 4 3 2 1 0]\n",
      "a[1::-1]  -> [1 0]\n",
      "a[:-3:-1] -> [7 6]\n"
     ]
    }
   ],
   "source": [
    "# Reveal\n",
    "print(\"a[::-1]   ->\", a[::-1]) # [7 6 5 4 3 2 1 0]\n",
    "print(\"a[1::-1]  ->\", a[1::-1]) # [1 0]\n",
    "print(\"a[:-3:-1] ->\", a[:-3:-1]) # [7 6]"
   ]
  },
  {
   "cell_type": "markdown",
   "id": "e4debe7f",
   "metadata": {},
   "source": [
    "### Exercise 8 — Insert Axes\n",
    "Let `v = np.arange(3)`. Predict the shapes of:\n",
    "- `v[:, None]`\n",
    "- `v[None, :]`\n",
    "- `(v[:, None] + v[None, :])`"
   ]
  },
  {
   "cell_type": "code",
   "execution_count": null,
   "id": "2070754f",
   "metadata": {},
   "outputs": [],
   "source": [
    "v = np.arange(3)\n",
    "v"
   ]
  },
  {
   "cell_type": "code",
   "execution_count": null,
   "id": "4f223c2e",
   "metadata": {},
   "outputs": [],
   "source": [
    "# Reveal\n",
    "print(\"v[:, None].shape  ->\", v[:, None].shape)\n",
    "print(\"v[None, :].shape  ->\", v[None, :].shape)\n",
    "print(\"(v[:, None] + v[None, :]).shape ->\", (v[:, None] + v[None, :]).shape)"
   ]
  },
  {
   "cell_type": "markdown",
   "id": "74ea6d95",
   "metadata": {},
   "source": [
    "### Exercise 9 — Mixed Slicing & Masking\n",
    "Given `Z = np.arange(1, 13).reshape(3,4)` and `mask = Z[1] > 6`, predict:\n",
    "- `Z[1, mask]`\n",
    "- `Z[:, mask]` shape"
   ]
  },
  {
   "cell_type": "code",
   "execution_count": null,
   "id": "06a9f4a5",
   "metadata": {},
   "outputs": [],
   "source": [
    "Z = np.arange(1, 13).reshape(3,4)\n",
    "mask = Z[1] > 6\n",
    "Z, mask"
   ]
  },
  {
   "cell_type": "code",
   "execution_count": null,
   "id": "deca6a04",
   "metadata": {},
   "outputs": [],
   "source": [
    "# Reveal\n",
    "print(\"Z[1, mask] ->\", Z[1, mask])\n",
    "print(\"Z[:, mask].shape ->\", Z[:, mask].shape)"
   ]
  },
  {
   "cell_type": "markdown",
   "id": "0f5e570f",
   "metadata": {},
   "source": [
    "### Exercise 10 — Slicing with Steps in 2D\n",
    "`M = np.arange(1, 26).reshape(5,5)`. Predict:\n",
    "- `M[::2, 1::2]`\n",
    "- `M[1::2, ::-2]`\n",
    "- `M[::-2, ::2]`"
   ]
  },
  {
   "cell_type": "code",
   "execution_count": null,
   "id": "de07cfa9",
   "metadata": {},
   "outputs": [],
   "source": [
    "M = np.arange(1, 26).reshape(5,5)\n",
    "M"
   ]
  },
  {
   "cell_type": "code",
   "execution_count": null,
   "id": "f85b26c3",
   "metadata": {},
   "outputs": [],
   "source": [
    "# Reveal\n",
    "print(\"M[::2, 1::2]:\\n\", M[::2, 1::2])\n",
    "print(\"M[1::2, ::-2]:\\n\", M[1::2, ::-2])\n",
    "print(\"M[::-2, ::2]:\\n\", M[::-2, ::2])"
   ]
  }
 ],
 "metadata": {
  "kernelspec": {
   "display_name": "Python 3",
   "language": "python",
   "name": "python3"
  },
  "language_info": {
   "codemirror_mode": {
    "name": "ipython",
    "version": 3
   },
   "file_extension": ".py",
   "mimetype": "text/x-python",
   "name": "python",
   "nbconvert_exporter": "python",
   "pygments_lexer": "ipython3",
   "version": "3.9.6"
  }
 },
 "nbformat": 4,
 "nbformat_minor": 5
}
