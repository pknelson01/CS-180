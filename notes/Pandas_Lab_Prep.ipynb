{
  "cells": [
    {
      "cell_type": "markdown",
      "metadata": {
        "id": "fad13197"
      },
      "source": [
        "# Pandas Tutorial\n",
        "A pandas tutorial that reads a CSV file with NaNs, backfills NaNs, sorts by a column, creates a subset by dropping a column, and generates visualizations (boxplot and others) from the subset."
      ]
    },
    {
      "cell_type": "markdown",
      "metadata": {
        "id": "6ffefc39"
      },
      "source": [
        "## Generate sample data\n",
        "\n",
        "Create a sample CSV file with some NaN values.\n"
      ]
    },
    {
      "cell_type": "markdown",
      "metadata": {
        "id": "cfa5507a"
      },
      "source": [
        "**Reasoning**:\n",
        "Create a dictionary with sample data including NaNs, convert it to a pandas DataFrame, and save it as a CSV file without the index.\n",
        "\n"
      ]
    },
    {
      "cell_type": "code",
      "execution_count": 1,
      "metadata": {
        "id": "48037479"
      },
      "outputs": [],
      "source": [
        "import pandas as pd\n",
        "import numpy as np\n",
        "\n",
        "data = {\n",
        "    'Name': ['Alice', 'Bob', 'Charlie', 'David', 'Eve', 'Frank', 'Grace', 'Heidi', 'Ivy', 'Jack'],\n",
        "    'Age': [24, 30, np.nan, 28, 22, 45, 31, np.nan, 29, 35],\n",
        "    'Salary': [50000, 60000, 75000, np.nan, 55000, 90000, 62000, 70000, np.nan, 80000],\n",
        "    'Department': ['HR', 'IT', 'Finance', 'Marketing', 'HR', 'IT', 'Finance', 'Marketing', 'HR', 'IT']\n",
        "}\n",
        "\n",
        "df = pd.DataFrame(data)"
      ]
    },
    {
      "cell_type": "code",
      "execution_count": 2,
      "metadata": {
        "colab": {
          "base_uri": "https://localhost:8080/",
          "height": 206
        },
        "id": "iPezJVXZhGrS",
        "outputId": "13b0571e-436e-4813-cdcb-c91544f4d129"
      },
      "outputs": [
        {
          "data": {
            "text/html": [
              "<div>\n",
              "<style scoped>\n",
              "    .dataframe tbody tr th:only-of-type {\n",
              "        vertical-align: middle;\n",
              "    }\n",
              "\n",
              "    .dataframe tbody tr th {\n",
              "        vertical-align: top;\n",
              "    }\n",
              "\n",
              "    .dataframe thead th {\n",
              "        text-align: right;\n",
              "    }\n",
              "</style>\n",
              "<table border=\"1\" class=\"dataframe\">\n",
              "  <thead>\n",
              "    <tr style=\"text-align: right;\">\n",
              "      <th></th>\n",
              "      <th>Name</th>\n",
              "      <th>Age</th>\n",
              "      <th>Salary</th>\n",
              "      <th>Department</th>\n",
              "    </tr>\n",
              "  </thead>\n",
              "  <tbody>\n",
              "    <tr>\n",
              "      <th>0</th>\n",
              "      <td>Alice</td>\n",
              "      <td>24.0</td>\n",
              "      <td>50000.0</td>\n",
              "      <td>HR</td>\n",
              "    </tr>\n",
              "    <tr>\n",
              "      <th>1</th>\n",
              "      <td>Bob</td>\n",
              "      <td>30.0</td>\n",
              "      <td>60000.0</td>\n",
              "      <td>IT</td>\n",
              "    </tr>\n",
              "    <tr>\n",
              "      <th>2</th>\n",
              "      <td>Charlie</td>\n",
              "      <td>NaN</td>\n",
              "      <td>75000.0</td>\n",
              "      <td>Finance</td>\n",
              "    </tr>\n",
              "    <tr>\n",
              "      <th>3</th>\n",
              "      <td>David</td>\n",
              "      <td>28.0</td>\n",
              "      <td>NaN</td>\n",
              "      <td>Marketing</td>\n",
              "    </tr>\n",
              "    <tr>\n",
              "      <th>4</th>\n",
              "      <td>Eve</td>\n",
              "      <td>22.0</td>\n",
              "      <td>55000.0</td>\n",
              "      <td>HR</td>\n",
              "    </tr>\n",
              "  </tbody>\n",
              "</table>\n",
              "</div>"
            ],
            "text/plain": [
              "      Name   Age   Salary Department\n",
              "0    Alice  24.0  50000.0         HR\n",
              "1      Bob  30.0  60000.0         IT\n",
              "2  Charlie   NaN  75000.0    Finance\n",
              "3    David  28.0      NaN  Marketing\n",
              "4      Eve  22.0  55000.0         HR"
            ]
          },
          "execution_count": 2,
          "metadata": {},
          "output_type": "execute_result"
        }
      ],
      "source": [
        "df.head()"
      ]
    },
    {
      "cell_type": "code",
      "execution_count": 3,
      "metadata": {
        "id": "Hye98ppqgvKe"
      },
      "outputs": [],
      "source": [
        "df.to_csv('sample_data_with_nan.csv', index=False)"
      ]
    },
    {
      "cell_type": "markdown",
      "metadata": {
        "id": "54c7ca21"
      },
      "source": [
        "## Load data\n",
        "\n",
        "Read the generated CSV file into a pandas DataFrame.\n"
      ]
    },
    {
      "cell_type": "markdown",
      "metadata": {
        "id": "6852424e"
      },
      "source": [
        "**Reasoning**:\n",
        "Read the generated CSV file into a pandas DataFrame and display the first few rows to verify the loading.\n",
        "\n"
      ]
    },
    {
      "cell_type": "code",
      "execution_count": 4,
      "metadata": {
        "colab": {
          "base_uri": "https://localhost:8080/",
          "height": 206
        },
        "id": "d0135036",
        "outputId": "48058d22-4cfe-4a3a-db0b-52dda4ca1b5d"
      },
      "outputs": [
        {
          "data": {
            "text/html": [
              "<div>\n",
              "<style scoped>\n",
              "    .dataframe tbody tr th:only-of-type {\n",
              "        vertical-align: middle;\n",
              "    }\n",
              "\n",
              "    .dataframe tbody tr th {\n",
              "        vertical-align: top;\n",
              "    }\n",
              "\n",
              "    .dataframe thead th {\n",
              "        text-align: right;\n",
              "    }\n",
              "</style>\n",
              "<table border=\"1\" class=\"dataframe\">\n",
              "  <thead>\n",
              "    <tr style=\"text-align: right;\">\n",
              "      <th></th>\n",
              "      <th>Name</th>\n",
              "      <th>Age</th>\n",
              "      <th>Salary</th>\n",
              "      <th>Department</th>\n",
              "    </tr>\n",
              "  </thead>\n",
              "  <tbody>\n",
              "    <tr>\n",
              "      <th>0</th>\n",
              "      <td>Alice</td>\n",
              "      <td>24.0</td>\n",
              "      <td>50000.0</td>\n",
              "      <td>HR</td>\n",
              "    </tr>\n",
              "    <tr>\n",
              "      <th>1</th>\n",
              "      <td>Bob</td>\n",
              "      <td>30.0</td>\n",
              "      <td>60000.0</td>\n",
              "      <td>IT</td>\n",
              "    </tr>\n",
              "    <tr>\n",
              "      <th>2</th>\n",
              "      <td>Charlie</td>\n",
              "      <td>NaN</td>\n",
              "      <td>75000.0</td>\n",
              "      <td>Finance</td>\n",
              "    </tr>\n",
              "    <tr>\n",
              "      <th>3</th>\n",
              "      <td>David</td>\n",
              "      <td>28.0</td>\n",
              "      <td>NaN</td>\n",
              "      <td>Marketing</td>\n",
              "    </tr>\n",
              "    <tr>\n",
              "      <th>4</th>\n",
              "      <td>Eve</td>\n",
              "      <td>22.0</td>\n",
              "      <td>55000.0</td>\n",
              "      <td>HR</td>\n",
              "    </tr>\n",
              "  </tbody>\n",
              "</table>\n",
              "</div>"
            ],
            "text/plain": [
              "      Name   Age   Salary Department\n",
              "0    Alice  24.0  50000.0         HR\n",
              "1      Bob  30.0  60000.0         IT\n",
              "2  Charlie   NaN  75000.0    Finance\n",
              "3    David  28.0      NaN  Marketing\n",
              "4      Eve  22.0  55000.0         HR"
            ]
          },
          "metadata": {},
          "output_type": "display_data"
        }
      ],
      "source": [
        "import pandas as pd\n",
        "\n",
        "df = pd.read_csv('sample_data_with_nan.csv')\n",
        "display(df.head())"
      ]
    },
    {
      "cell_type": "markdown",
      "metadata": {
        "id": "9f4f6da4"
      },
      "source": [
        "## Handle missing values\n",
        "\n",
        "Demonstrate how to backfill NaN values in the DataFrame.\n"
      ]
    },
    {
      "cell_type": "markdown",
      "metadata": {
        "id": "313932e3"
      },
      "source": [
        "**Reasoning**:\n",
        "The task requires backfilling NaN values in the 'Age' and 'Salary' columns of the DataFrame `df`. I will select these columns, apply the backfill method, and update the original DataFrame. Finally, I will display the head of the updated DataFrame to verify the changes.\n",
        "\n"
      ]
    },
    {
      "cell_type": "code",
      "execution_count": null,
      "metadata": {
        "colab": {
          "base_uri": "https://localhost:8080/",
          "height": 206
        },
        "id": "c3e6e66a",
        "outputId": "9cb64ccd-5cf1-4580-a4cf-1ee85dff4817"
      },
      "outputs": [],
      "source": [
        "df[['Age', 'Salary']] = df[['Age', 'Salary']].bfill()\n",
        "display(df.head())"
      ]
    },
    {
      "cell_type": "markdown",
      "metadata": {
        "id": "84c1da76"
      },
      "source": [
        "## Sort data\n",
        "\n",
        "Sort the DataFrame by a specified column in descending order.\n"
      ]
    },
    {
      "cell_type": "markdown",
      "metadata": {
        "id": "4c243b74"
      },
      "source": [
        "**Reasoning**:\n",
        "Sort the DataFrame by the 'Salary' column in descending order and display the head of the sorted DataFrame to verify the sorting.\n",
        "\n"
      ]
    },
    {
      "cell_type": "code",
      "execution_count": null,
      "metadata": {
        "colab": {
          "base_uri": "https://localhost:8080/",
          "height": 206
        },
        "id": "ef8e7548",
        "outputId": "de877299-97da-4676-a778-fb63e7dff3aa"
      },
      "outputs": [],
      "source": [
        "df = df.sort_values(by='Salary', ascending=False)\n",
        "display(df.head())"
      ]
    },
    {
      "cell_type": "markdown",
      "metadata": {
        "id": "87da3da3"
      },
      "source": [
        "## Subset data\n",
        "\n",
        "Create a subset of the DataFrame by dropping a column.\n"
      ]
    },
    {
      "cell_type": "markdown",
      "metadata": {
        "id": "6cf270cd"
      },
      "source": [
        "**Reasoning**:\n",
        "Create a new DataFrame by dropping the 'Name' column from the existing DataFrame `df` without modifying `df`, and then display the head of the new DataFrame to verify the change.\n",
        "\n"
      ]
    },
    {
      "cell_type": "code",
      "execution_count": 9,
      "metadata": {
        "colab": {
          "base_uri": "https://localhost:8080/",
          "height": 206
        },
        "id": "c553d396",
        "outputId": "a861203a-9425-4cb6-b0f3-465ee7058580"
      },
      "outputs": [
        {
          "data": {
            "text/html": [
              "<div>\n",
              "<style scoped>\n",
              "    .dataframe tbody tr th:only-of-type {\n",
              "        vertical-align: middle;\n",
              "    }\n",
              "\n",
              "    .dataframe tbody tr th {\n",
              "        vertical-align: top;\n",
              "    }\n",
              "\n",
              "    .dataframe thead th {\n",
              "        text-align: right;\n",
              "    }\n",
              "</style>\n",
              "<table border=\"1\" class=\"dataframe\">\n",
              "  <thead>\n",
              "    <tr style=\"text-align: right;\">\n",
              "      <th></th>\n",
              "      <th>Name</th>\n",
              "      <th>Age</th>\n",
              "      <th>Salary</th>\n",
              "    </tr>\n",
              "  </thead>\n",
              "  <tbody>\n",
              "    <tr>\n",
              "      <th>0</th>\n",
              "      <td>Alice</td>\n",
              "      <td>24.0</td>\n",
              "      <td>50000.0</td>\n",
              "    </tr>\n",
              "    <tr>\n",
              "      <th>1</th>\n",
              "      <td>Bob</td>\n",
              "      <td>30.0</td>\n",
              "      <td>60000.0</td>\n",
              "    </tr>\n",
              "    <tr>\n",
              "      <th>2</th>\n",
              "      <td>Charlie</td>\n",
              "      <td>NaN</td>\n",
              "      <td>75000.0</td>\n",
              "    </tr>\n",
              "    <tr>\n",
              "      <th>3</th>\n",
              "      <td>David</td>\n",
              "      <td>28.0</td>\n",
              "      <td>NaN</td>\n",
              "    </tr>\n",
              "    <tr>\n",
              "      <th>4</th>\n",
              "      <td>Eve</td>\n",
              "      <td>22.0</td>\n",
              "      <td>55000.0</td>\n",
              "    </tr>\n",
              "  </tbody>\n",
              "</table>\n",
              "</div>"
            ],
            "text/plain": [
              "      Name   Age   Salary\n",
              "0    Alice  24.0  50000.0\n",
              "1      Bob  30.0  60000.0\n",
              "2  Charlie   NaN  75000.0\n",
              "3    David  28.0      NaN\n",
              "4      Eve  22.0  55000.0"
            ]
          },
          "metadata": {},
          "output_type": "display_data"
        }
      ],
      "source": [
        "df_subset = df.drop('Department', axis=1)\n",
        "display(df_subset.head())"
      ]
    },
    {
      "cell_type": "markdown",
      "metadata": {
        "id": "256c6d0b"
      },
      "source": [
        "## Normalize Data\n",
        "\n",
        "Normalize the data in the subset DataFrame between 0 and 1."
      ]
    },
    {
      "cell_type": "code",
      "execution_count": 10,
      "metadata": {
        "colab": {
          "base_uri": "https://localhost:8080/",
          "height": 206
        },
        "id": "87ef9fd0",
        "outputId": "a84a6bf8-9cd0-455a-f0b3-52debf7e90c0"
      },
      "outputs": [
        {
          "data": {
            "text/html": [
              "<div>\n",
              "<style scoped>\n",
              "    .dataframe tbody tr th:only-of-type {\n",
              "        vertical-align: middle;\n",
              "    }\n",
              "\n",
              "    .dataframe tbody tr th {\n",
              "        vertical-align: top;\n",
              "    }\n",
              "\n",
              "    .dataframe thead th {\n",
              "        text-align: right;\n",
              "    }\n",
              "</style>\n",
              "<table border=\"1\" class=\"dataframe\">\n",
              "  <thead>\n",
              "    <tr style=\"text-align: right;\">\n",
              "      <th></th>\n",
              "      <th>Age</th>\n",
              "      <th>Salary</th>\n",
              "    </tr>\n",
              "  </thead>\n",
              "  <tbody>\n",
              "    <tr>\n",
              "      <th>0</th>\n",
              "      <td>0.086957</td>\n",
              "      <td>0.000</td>\n",
              "    </tr>\n",
              "    <tr>\n",
              "      <th>1</th>\n",
              "      <td>0.347826</td>\n",
              "      <td>0.250</td>\n",
              "    </tr>\n",
              "    <tr>\n",
              "      <th>2</th>\n",
              "      <td>NaN</td>\n",
              "      <td>0.625</td>\n",
              "    </tr>\n",
              "    <tr>\n",
              "      <th>3</th>\n",
              "      <td>0.260870</td>\n",
              "      <td>NaN</td>\n",
              "    </tr>\n",
              "    <tr>\n",
              "      <th>4</th>\n",
              "      <td>0.000000</td>\n",
              "      <td>0.125</td>\n",
              "    </tr>\n",
              "  </tbody>\n",
              "</table>\n",
              "</div>"
            ],
            "text/plain": [
              "        Age  Salary\n",
              "0  0.086957   0.000\n",
              "1  0.347826   0.250\n",
              "2       NaN   0.625\n",
              "3  0.260870     NaN\n",
              "4  0.000000   0.125"
            ]
          },
          "metadata": {},
          "output_type": "display_data"
        }
      ],
      "source": [
        "from sklearn.preprocessing import MinMaxScaler\n",
        "\n",
        "scaler = MinMaxScaler()\n",
        "df_normalized = pd.DataFrame(scaler.fit_transform(df_subset[['Age', 'Salary']]), columns=['Age', 'Salary'])\n",
        "display(df_normalized.head())"
      ]
    },
    {
      "cell_type": "markdown",
      "metadata": {
        "id": "032a9e72"
      },
      "source": [
        "## Data visualization\n",
        "\n",
        "Generate a boxplot and other relevant visualizations using the subset DataFrame.\n"
      ]
    },
    {
      "cell_type": "markdown",
      "metadata": {
        "id": "76bbaeaa"
      },
      "source": [
        "**Reasoning**:\n",
        "Import the necessary libraries for plotting and create the requested visualizations from the `df_subset` DataFrame.\n",
        "\n"
      ]
    },
    {
      "cell_type": "code",
      "execution_count": 15,
      "metadata": {
        "colab": {
          "base_uri": "https://localhost:8080/",
          "height": 545
        },
        "id": "531b1fec",
        "outputId": "74d5b9df-39ac-4e85-ca50-6d7b183f5e0f"
      },
      "outputs": [
        {
          "data": {
            "image/png": "[encoded data removed]",
            "text/plain": [
              "<Figure size 1000x600 with 1 Axes>"
            ]
          },
          "metadata": {},
          "output_type": "display_data"
        }
      ],
      "source": [
        "import matplotlib.pyplot as plt\n",
        "import seaborn as sns\n",
        "\n",
        "plt.figure(figsize=(10, 6))\n",
        "sns.boxplot(data=df_subset[['Age','Salary']])\n",
        "#df_normalized.boxplot(['Age','Salary'])\n",
        "plt.title('Distribution of Age and Salary')\n",
        "plt.show()"
      ]
    },
    {
      "cell_type": "code",
      "execution_count": 16,
      "metadata": {
        "id": "XfdlkDL7iZnc"
      },
      "outputs": [
        {
          "data": {
            "image/png": "[encoded data removed]",
            "text/plain": [
              "<Figure size 1000x600 with 1 Axes>"
            ]
          },
          "metadata": {},
          "output_type": "display_data"
        }
      ],
      "source": [
        "plt.figure(figsize=(10, 6))\n",
        "sns.scatterplot(x='Age', y='Salary', data=df_normalized)\n",
        "plt.xlabel('Age')\n",
        "plt.ylabel('Salary')\n",
        "plt.title('Age vs. Salary')\n",
        "plt.show()"
      ]
    },
    {
      "cell_type": "markdown",
      "metadata": {
        "id": "6d95b060"
      },
      "source": [
        "## Summary:\n",
        "\n",
        "### Data Analysis Key Findings\n",
        "\n",
        "* A sample CSV file containing 'Name', 'Age', 'Salary', and 'Department' columns was successfully created, including missing values (NaN) in the 'Age' and 'Salary' columns.\n",
        "* The CSV file was successfully loaded into a pandas DataFrame.\n",
        "* Missing values in the 'Age' and 'Salary' columns were successfully backfilled using the `bfill` method.\n",
        "* The DataFrame was sorted in descending order based on the 'Salary' column.\n",
        "* A subset DataFrame was created by dropping the 'Name' column.\n",
        "* The numerical data in the subset DataFrame was successfully normalized between 0 and 1.\n",
        "* A boxplot visualizing the distribution of 'Salary' and 'Age' and a scatter plot showing the relationship between 'Age' and 'Salary' were successfully generated from the subset DataFrame.\n",
        "\n",
        "### Insights or Next Steps\n",
        "\n",
        "* Consider exploring different methods for handling missing values (e.g., mean, median, or interpolation) and evaluate their impact on the data analysis.\n",
        "* Further visualizations could be created to explore the relationship between 'Department' and 'Salary' or 'Age'.\n",
        "* The normalized data can be used for machine learning algorithms that are sensitive to the scale of the features."
      ]
    },
    {
      "cell_type": "markdown",
      "metadata": {
        "id": "1ba949d3"
      },
      "source": [
        "## Summary:\n",
        "\n",
        "### Data Analysis Key Findings\n",
        "\n",
        "*   A sample CSV file containing 'Name', 'Age', 'Salary', and 'Department' columns was successfully created, including missing values (NaN) in the 'Age' and 'Salary' columns.\n",
        "*   The CSV file was successfully loaded into a pandas DataFrame.\n",
        "*   Missing values in the 'Age' and 'Salary' columns were successfully backfilled using the `bfill` method.\n",
        "*   The DataFrame was sorted in descending order based on the 'Salary' column.\n",
        "*   A subset DataFrame was created by dropping the 'Name' column.\n",
        "*   A boxplot visualizing the distribution of 'Salary' and a scatter plot showing the relationship between 'Age' and 'Salary' were successfully generated from the subset DataFrame.\n",
        "\n",
        "### Insights or Next Steps\n",
        "\n",
        "*   Consider exploring different methods for handling missing values (e.g., mean, median, or interpolation) and evaluate their impact on the data analysis.\n",
        "*   Further visualizations could be created to explore the relationship between 'Department' and 'Salary' or 'Age'.\n"
      ]
    },
    {
      "cell_type": "code",
      "execution_count": null,
      "metadata": {
        "id": "DU4dwVYYx1Zh"
      },
      "outputs": [],
      "source": []
    }
  ],
  "metadata": {
    "colab": {
      "provenance": []
    },
    "kernelspec": {
      "display_name": "3.10.2",
      "language": "python",
      "name": "python3"
    },
    "language_info": {
      "codemirror_mode": {
        "name": "ipython",
        "version": 3
      },
      "file_extension": ".py",
      "mimetype": "text/x-python",
      "name": "python",
      "nbconvert_exporter": "python",
      "pygments_lexer": "ipython3",
      "version": "3.10.2"
    }
  },
  "nbformat": 4,
  "nbformat_minor": 0
}
