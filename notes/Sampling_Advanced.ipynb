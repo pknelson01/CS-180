{
  "cells": [
    {
      "cell_type": "markdown",
      "metadata": {
        "id": "IsFkb6y30xWS"
      },
      "source": [
        "### Tutorial: How to Sample Data Using Python\n",
        "\n",
        "Sampling is a fundamental technique used in data analysis and statistics to draw inferences about a population based on a smaller subset of data (a sample). In this tutorial, we'll cover several common ways to sample data using Python, including simple random sampling, stratified sampling, and systematic sampling.\n",
        "\n",
        "#### 1. **Simple Random Sampling**\n",
        "\n",
        "Simple random sampling is the most straightforward method where each data point in the population has an equal chance of being selected.\n",
        "\n",
        "#### Example: Using `numpy` for simple random sampling\n"
      ]
    },
    {
      "cell_type": "code",
      "execution_count": 1,
      "metadata": {
        "colab": {
          "base_uri": "https://localhost:8080/"
        },
        "id": "O9fLb8LJ1SzS",
        "outputId": "c1a9d574-79ed-4c6f-d800-50590a268a07"
      },
      "outputs": [
        {
          "name": "stdout",
          "output_type": "stream",
          "text": [
            "Simple Random Sample: [70 48 10 34 58 18 13 65 73 78 38 22 24 93 97 85 48 67 32 75 69 68  4 10\n",
            " 82  4 62 29 10 39 28 78 35 90 72  9 76 27 55 50 58 78 84  2  2 76 36 73\n",
            " 72 82 32 74 83 39 82 32 82 34 27 76 64 95 59 80 89  0 46 73 22  9 67  8\n",
            " 46 74 37 34 70 74 21 58 78 97 88 42 57 17 91 11 89 25 93 54  9 72 14 62\n",
            " 10 79 95 92]\n"
          ]
        }
      ],
      "source": [
        "import numpy as np\n",
        "\n",
        "# Simulate a population (e.g., exam scores of 1000 students)\n",
        "population = np.random.randint(0, 100, 1000)\n",
        "\n",
        "# Draw a random sample of 100 students\n",
        "sample_size = 100\n",
        "simple_random_sample = np.random.choice(population, size=sample_size, replace=False)\n",
        "\n",
        "# Display the sample\n",
        "print(\"Simple Random Sample:\", simple_random_sample)"
      ]
    },
    {
      "cell_type": "markdown",
      "metadata": {
        "id": "SVGe5yEk1Xy-"
      },
      "source": [
        "- `np.random.choice` is used to randomly select `sample_size` elements from the `population`.\n",
        "- `replace=False` ensures that no element is selected more than once (sampling without replacement).\n",
        "\n",
        "#### 2. **Stratified Sampling**\n",
        "\n",
        "Stratified sampling divides the population into distinct subgroups (strata), and samples are taken from each subgroup. It is useful when you want to ensure that each subgroup is represented proportionally in the sample.\n",
        "\n",
        "#### Example: Using `pandas` for stratified sampling"
      ]
    },
    {
      "cell_type": "code",
      "execution_count": 6,
      "metadata": {
        "colab": {
          "base_uri": "https://localhost:8080/"
        },
        "id": "cBxZHcSu1op9",
        "outputId": "39abb9b5-70cb-497b-c4cc-95ffb91fb456"
      },
      "outputs": [
        {
          "name": "stdout",
          "output_type": "stream",
          "text": [
            "Training Set Head:\n",
            "     student_id gender  score\n",
            "279         279   Male     11\n",
            "920         920   Male     24\n",
            "5             5   Male     55\n",
            "640         640   Male     48\n",
            "299         299   Male     98\n",
            "\n",
            "Testing Set Head:\n",
            "     student_id  gender  score\n",
            "826         826    Male      7\n",
            "578         578  Female     47\n",
            "434         434  Female     35\n",
            "111         111  Female     26\n",
            "227         227    Male     93\n",
            "\n",
            "Training Set Gender Distribution:\n",
            "gender\n",
            "Male      0.50125\n",
            "Female    0.49875\n",
            "Name: proportion, dtype: float64\n",
            "\n",
            "Testing Set Gender Distribution:\n",
            "gender\n",
            "Male      0.5\n",
            "Female    0.5\n",
            "Name: proportion, dtype: float64\n"
          ]
        }
      ],
      "source": [
        "import pandas as pd\n",
        "from sklearn.model_selection import train_test_split\n",
        "\n",
        "# Create a DataFrame with a population of students\n",
        "data = {\n",
        "    'student_id': np.arange(1000),\n",
        "    'gender': np.random.choice(['Male', 'Female'], 1000),\n",
        "    'score': np.random.randint(0, 100, 1000)\n",
        "}\n",
        "df_population = pd.DataFrame(data)\n",
        "\n",
        "# Use train_test_split with stratification on the 'gender' column\n",
        "# This splits the data into training and testing sets while maintaining the original proportion of genders\n",
        "train_df, test_df = train_test_split(df_population, test_size=0.2, random_state=42, stratify=df_population['gender'])\n",
        "\n",
        "# Display the head of the training and testing sets and their gender distribution\n",
        "print(\"Training Set Head:\")\n",
        "print(train_df.head())\n",
        "print(\"\\nTesting Set Head:\")\n",
        "print(test_df.head())\n",
        "\n",
        "print(\"\\nTraining Set Gender Distribution:\")\n",
        "print(train_df['gender'].value_counts(normalize=True))\n",
        "print(\"\\nTesting Set Gender Distribution:\")\n",
        "print(test_df['gender'].value_counts(normalize=True))"
      ]
    },
    {
      "cell_type": "code",
      "execution_count": 7,
      "metadata": {
        "id": "6afd38ee"
      },
      "outputs": [
        {
          "name": "stdout",
          "output_type": "stream",
          "text": [
            "Stratified Sample (using groupby) Head:\n",
            "     student_id  gender  score\n",
            "589         589  Female      9\n",
            "888         888  Female     60\n",
            "123         123  Female     22\n",
            "137         137  Female      6\n",
            "110         110  Female     64\n",
            "\n",
            "Stratified Sample (using groupby) Gender Distribution:\n",
            "gender\n",
            "Female    0.52\n",
            "Male      0.48\n",
            "Name: proportion, dtype: float64\n"
          ]
        },
        {
          "name": "stderr",
          "output_type": "stream",
          "text": [
            "/var/folders/l0/9x933dm56z9fssx2c1knbk080000gp/T/ipykernel_42755/1813055739.py:13: FutureWarning: DataFrameGroupBy.apply operated on the grouping columns. This behavior is deprecated, and in a future version of pandas the grouping columns will be excluded from the operation. Either pass `include_groups=False` to exclude the groupings or explicitly select the grouping columns after groupby to silence this warning.\n",
            "  stratified_sample_groupby = df_population.groupby('gender', group_keys=False).apply(lambda x: x.sample(frac=0.1))\n"
          ]
        }
      ],
      "source": [
        "import pandas as pd\n",
        "\n",
        "# Create a DataFrame with a population of students\n",
        "data = {\n",
        "    'student_id': np.arange(1000),\n",
        "    'gender': np.random.choice(['Male', 'Female'], 1000),\n",
        "    'score': np.random.randint(0, 100, 1000)\n",
        "}\n",
        "df_population = pd.DataFrame(data)\n",
        "\n",
        "# Stratified sampling using groupby\n",
        "# This approach samples a fixed fraction from each group (e.g., 10% from each gender)\n",
        "stratified_sample_groupby = df_population.groupby('gender', group_keys=False).apply(lambda x: x.sample(frac=0.1))\n",
        "\n",
        "# Display the head of the stratified sample and its gender distribution\n",
        "print(\"Stratified Sample (using groupby) Head:\")\n",
        "print(stratified_sample_groupby.head())\n",
        "\n",
        "print(\"\\nStratified Sample (using groupby) Gender Distribution:\")\n",
        "print(stratified_sample_groupby['gender'].value_counts(normalize=True))"
      ]
    },
    {
      "cell_type": "markdown",
      "metadata": {
        "id": "KIQLhMLP1w6a"
      },
      "source": [
        "- The population is divided by the `gender` column.\n",
        "- `groupby` is used to ensure each group (Male, Female) is sampled independently.\n",
        "- `frac=0.1` means we are sampling 10% of each group.\n",
        "\n",
        "#### 3. **Systematic Sampling**\n",
        "\n",
        "In systematic sampling, every nth element is selected from a list or a dataset. This is useful when data is sorted in some meaningful order, and you want to pick samples at regular intervals.\n",
        "\n",
        "#### Example: Systematic Sampling using `numpy`"
      ]
    },
    {
      "cell_type": "code",
      "execution_count": 8,
      "metadata": {
        "colab": {
          "base_uri": "https://localhost:8080/"
        },
        "id": "0yzgulBm2Bbk",
        "outputId": "b741621b-a3d6-4455-ce14-76cf9242c4e2"
      },
      "outputs": [
        {
          "name": "stdout",
          "output_type": "stream",
          "text": [
            "Systematic Sample: [55 73 48 90  6 67 28 97 29  6 35 77 19 76 21 67 77 44 27 53 65 31 48 85\n",
            " 92 93 82 21 69 52 30 57 66  7 71 84  9 92 67 85 66 38 27 66 31 12 50 47\n",
            " 34 24 91 98 55 38 47 44 66 45 36 96 38 49  8 95 49 14 85 97 48 14  8 90\n",
            " 83 36 27 42 57 85 50 26 96 68 31 84 93 40 55 48 66 16 89 62 81 95  8 62\n",
            " 48 99 75 25]\n"
          ]
        }
      ],
      "source": [
        "# Define a systematic sampling function\n",
        "def systematic_sampling(population, step):\n",
        "    return population[::step]\n",
        "\n",
        "# Sample every 10th student from the population\n",
        "step = 10\n",
        "systematic_sample = systematic_sampling(population, step)\n",
        "\n",
        "# Display the systematic sample\n",
        "print(\"Systematic Sample:\", systematic_sample)"
      ]
    },
    {
      "cell_type": "markdown",
      "metadata": {
        "id": "JnFpcjDL2Ewc"
      },
      "source": [
        "\n",
        "- This function samples every `step` element from the `population` list.\n",
        "- It uses Python’s list slicing syntax (`::step`) to sample data at regular intervals.\n",
        "\n",
        "#### 4. **Cluster Sampling**\n",
        "\n",
        "Cluster sampling divides the population into clusters (e.g., geographical regions or groups) and then randomly selects entire clusters. All elements within a selected cluster are included in the sample.\n",
        "\n",
        "#### Example: Cluster Sampling with `pandas`"
      ]
    },
    {
      "cell_type": "code",
      "execution_count": 15,
      "metadata": {
        "colab": {
          "base_uri": "https://localhost:8080/"
        },
        "id": "ZSecTAxk2OVy",
        "outputId": "59b0e1a2-3bcc-43e6-b740-179f85e6932c"
      },
      "outputs": [
        {
          "name": "stdout",
          "output_type": "stream",
          "text": [
            "Cluster Sample (School A):\n",
            "    student_id  gender  score    school\n",
            "0            0    Male     76  School_A\n",
            "9            9    Male     34  School_A\n",
            "10          10  Female     32  School_A\n",
            "11          11    Male     66  School_A\n",
            "12          12    Male     35  School_A\n"
          ]
        }
      ],
      "source": [
        "# Create clusters based on hypothetical schools\n",
        "df_population['school'] = np.random.choice(['School_A', 'School_B', 'School_C'], 1000)\n",
        "\n",
        "# Randomly select one cluster (e.g., one school)\n",
        "selected_cluster = df_population[df_population['school'] == 'School_A']\n",
        "\n",
        "# Display the selected cluster sample\n",
        "print(\"Cluster Sample (School A):\")\n",
        "print(selected_cluster.head())"
      ]
    },
    {
      "cell_type": "markdown",
      "metadata": {
        "id": "YSlvf1aJ2UAN"
      },
      "source": [
        "- The population is divided into clusters based on the `school` column.\n",
        "- We select all the students from one randomly chosen cluster (School_A).\n",
        "\n",
        "#### 5. **Reservoir Sampling**\n",
        "\n",
        "Reservoir sampling is used when the population size is unknown or too large to fit into memory. It ensures that a fixed-size sample is selected uniformly from a stream of data.\n",
        "\n",
        "#### Example: Reservoir Sampling"
      ]
    },
    {
      "cell_type": "code",
      "execution_count": null,
      "metadata": {
        "colab": {
          "base_uri": "https://localhost:8080/"
        },
        "id": "Mk2rdPGfzzFa",
        "outputId": "95a4dc47-40f2-4a59-b0ac-6bfd57aa5bb2"
      },
      "outputs": [
        {
          "name": "stdout",
          "output_type": "stream",
          "text": [
            "Reservoir Sample: [1, 4, 6, 47, 49, 57, 78, 7, 84, 79, 2, 11, 86, 1, 8, 54, 90, 97, 59, 96, 60, 72, 94, 26, 8, 27, 24, 70, 98, 71, 95, 98, 77, 90, 22, 28, 99, 8, 32, 17, 13, 58, 58, 77, 86, 55, 52, 49, 70, 80, 78, 15, 28, 34, 0, 87, 17, 1, 82, 62, 33, 42, 44, 95, 55, 18, 0, 15, 77, 13, 71, 29, 27, 79, 60, 82, 1, 24, 35, 83, 53, 86, 76, 76, 1, 1, 49, 76, 43, 76, 42, 12, 91, 37, 0, 92, 85, 25, 89, 5]\n"
          ]
        }
      ],
      "source": [
        "import random\n",
        "\n",
        "def reservoir_sampling(stream, sample_size):\n",
        "    # Create an initial sample of the first 'sample_size' items\n",
        "    sample = []\n",
        "\n",
        "    # Iterate over the stream\n",
        "    for i, item in enumerate(stream):\n",
        "        if i < sample_size:\n",
        "            sample.append(item)\n",
        "        else:\n",
        "            j = random.randint(0, i)\n",
        "            if j < sample_size:\n",
        "                sample[j] = item\n",
        "\n",
        "    return sample\n",
        "\n",
        "# Simulate a large stream of data\n",
        "stream = np.random.randint(0, 100, 10000)\n",
        "\n",
        "# Draw a sample of 100 items from the stream\n",
        "sample_size = 100\n",
        "reservoir_sample = reservoir_sampling(stream, sample_size)\n",
        "\n",
        "# Display the reservoir sample\n",
        "print(\"Reservoir Sample:\", reservoir_sample)"
      ]
    },
    {
      "cell_type": "markdown",
      "metadata": {
        "id": "haEaVxW92hNg"
      },
      "source": [
        "- Reservoir sampling works by maintaining a reservoir of `sample_size` and gradually replacing elements in the reservoir as more items are encountered in the stream.\n",
        "  \n",
        "#### 6. **Bootstrap Sampling**\n",
        "\n",
        "Bootstrap sampling is used to estimate statistics on a population by sampling with replacement. This method allows for the same data point to be selected multiple times.\n",
        "\n",
        "#### Example: Bootstrap Sampling"
      ]
    },
    {
      "cell_type": "code",
      "execution_count": null,
      "metadata": {
        "colab": {
          "base_uri": "https://localhost:8080/"
        },
        "id": "PqNQouuu2opZ",
        "outputId": "46f48708-5589-4d40-93d8-7056c372b5c0"
      },
      "outputs": [
        {
          "name": "stdout",
          "output_type": "stream",
          "text": [
            "Bootstrap Sample: [23 84 56  3 69 23 73  2 28 19  5 48 51  5 78 84  9 15 49 29 98 17 76 41\n",
            " 75 90 92 90 11 23 75 50 53 85 87 42 73 14 74  4  8 79 55 11  6 73  4 19\n",
            " 55 75 75 81 23  0 72 71 69 32 92 73 63 50 33 88 10 39 57  8 41 97 66 78\n",
            " 39 23 39 96 85  5 84 18 69 33 97 30 26 71 85 25 10 22 86  2 57 50 32  5\n",
            " 90  0 64 92]\n"
          ]
        }
      ],
      "source": [
        "# Draw a bootstrap sample from the population\n",
        "bootstrap_sample = np.random.choice(population, size=100, replace=True)\n",
        "\n",
        "# Display the bootstrap sample\n",
        "print(\"Bootstrap Sample:\", bootstrap_sample)"
      ]
    },
    {
      "cell_type": "markdown",
      "metadata": {
        "id": "Qd2-m41D2r1K"
      },
      "source": [
        "- `replace=True` ensures that the same data point can be selected more than once (sampling with replacement).\n",
        "- This technique is useful for estimating confidence intervals and variances."
      ]
    },
    {
      "cell_type": "markdown",
      "metadata": {
        "id": "FmWKEpws3E1v"
      },
      "source": [
        "### Visualizing Sampling Distributions\n",
        "\n",
        "It’s often helpful to visualize the difference between the population and sample distributions. Here's an example of how to do this:"
      ]
    },
    {
      "cell_type": "code",
      "execution_count": 18,
      "metadata": {
        "id": "DfPY6vMh0LbW"
      },
      "outputs": [],
      "source": [
        "import numpy as np\n",
        "import seaborn as sns \n",
        "import matplotlib.pyplot as plt\n",
        "\n",
        "# Simple random sampling\n",
        "simple_random_sample = np.random.choice(population, size=100, replace=False)"
      ]
    },
    {
      "cell_type": "code",
      "execution_count": 19,
      "metadata": {
        "colab": {
          "base_uri": "https://localhost:8080/",
          "height": 564
        },
        "id": "ZHrF8y0l0AHR",
        "outputId": "04bdb045-d75e-47b2-99d7-d51bbe7802ff"
      },
      "outputs": [
        {
          "data": {
            "image/png": "[encoded data removed]",
            "text/plain": [
              "<Figure size 1000x600 with 1 Axes>"
            ]
          },
          "metadata": {},
          "output_type": "display_data"
        }
      ],
      "source": [
        "# Plot the population and sample distributions\n",
        "plt.figure(figsize=(10, 6))\n",
        "sns.histplot(population, color=\"gray\", label=\"Population\", kde=True, stat=\"density\", bins=30)\n",
        "sns.histplot(simple_random_sample, color=\"blue\", label=\"Sample\", kde=True, stat=\"density\", bins=15)\n",
        "plt.axvline(np.mean(population), color='gray', linestyle='dashed', label='Population Mean')\n",
        "plt.axvline(np.mean(simple_random_sample), color='blue', linestyle='dashed', label='Sample Mean')\n",
        "plt.title(\"Population vs. Sample Distribution\")\n",
        "plt.xlabel(\"Value\")\n",
        "plt.ylabel(\"Density\")\n",
        "plt.legend()\n",
        "plt.show()"
      ]
    },
    {
      "cell_type": "markdown",
      "metadata": {
        "id": "NrKQVYJ3z4vd"
      },
      "source": [
        "### Summary\n",
        "\n",
        "- **Simple Random Sampling**: Each element in the population has an equal chance of being selected.\n",
        "- **Stratified Sampling**: Ensures proportional representation from subgroups in the sample.\n",
        "- **Systematic Sampling**: Samples data at regular intervals.\n",
        "- **Cluster Sampling**: Samples entire clusters or groups from the population.\n",
        "- **Reservoir Sampling**: Suitable for sampling from a large or streaming dataset.\n",
        "- **Bootstrap Sampling**: Sampling with replacement for statistical estimation.\n",
        "\n",
        "Each method is useful for different types of analysis depending on the structure of the population and the goals of the study. This tutorial shows how to implement each of these techniques using Python's `numpy` and `pandas` libraries.\n"
      ]
    }
  ],
  "metadata": {
    "colab": {
      "provenance": []
    },
    "kernelspec": {
      "display_name": "python-practice-Eg0paosb",
      "language": "python",
      "name": "python3"
    },
    "language_info": {
      "codemirror_mode": {
        "name": "ipython",
        "version": 3
      },
      "file_extension": ".py",
      "mimetype": "text/x-python",
      "name": "python",
      "nbconvert_exporter": "python",
      "pygments_lexer": "ipython3",
      "version": "3.10.2"
    }
  },
  "nbformat": 4,
  "nbformat_minor": 0
}
